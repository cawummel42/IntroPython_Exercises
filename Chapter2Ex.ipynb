{
  "nbformat": 4,
  "nbformat_minor": 0,
  "metadata": {
    "colab": {
      "provenance": [],
      "authorship_tag": "ABX9TyObHOocCBugIhEGDPQ/m3yu",
      "include_colab_link": true
    },
    "kernelspec": {
      "name": "python3",
      "display_name": "Python 3"
    },
    "language_info": {
      "name": "python"
    }
  },
  "cells": [
    {
      "cell_type": "markdown",
      "metadata": {
        "id": "view-in-github",
        "colab_type": "text"
      },
      "source": [
        "<a href=\"https://colab.research.google.com/github/cawummel42/IntroPython_Exercises/blob/main/Chapter2Ex.ipynb\" target=\"_parent\"><img src=\"https://colab.research.google.com/assets/colab-badge.svg\" alt=\"Open In Colab\"/></a>"
      ]
    },
    {
      "cell_type": "markdown",
      "source": [
        "# Chapter 2 Exercises"
      ],
      "metadata": {
        "id": "OwAUuA7xtdta"
      }
    },
    {
      "cell_type": "markdown",
      "source": [
        "##Algorithm Workbench"
      ],
      "metadata": {
        "id": "gQ1WGBPetmBT"
      }
    },
    {
      "cell_type": "markdown",
      "source": [
        "Exercise #1"
      ],
      "metadata": {
        "id": "old_qnRttreA"
      }
    },
    {
      "cell_type": "code",
      "source": [
        "#Ask for user's height using print command.\n",
        "print('Please enter your height below.')\n",
        "\n",
        "#Obtain height using Input command\n",
        "height=input('Enter your height: ')\n",
        "\n",
        "#Print command with variable included in message\n",
        "print('Your height entered is ' + height + '. Thank you for helping!')\n"
      ],
      "metadata": {
        "colab": {
          "base_uri": "https://localhost:8080/"
        },
        "id": "qxW8Pxf4wZOl",
        "outputId": "81548871-af0f-4857-dbe7-45ba3a883bf9"
      },
      "execution_count": 2,
      "outputs": [
        {
          "output_type": "stream",
          "name": "stdout",
          "text": [
            "Please enter your height below.\n",
            "Enter your height: 5' 11\"\n",
            "Your height entered is 5' 11\". Thank you for helping!\n"
          ]
        }
      ]
    },
    {
      "cell_type": "markdown",
      "source": [
        "Print command should display as follows:\n",
        "Please enter your height below.\n",
        "\n",
        "Input command should print as follows:\n",
        "Enter your height:\n",
        "\n",
        "Output for the final command should be:\n",
        "Your height entered is \"entered number\". Thank you for helping!\n"
      ],
      "metadata": {
        "id": "KNhX7pacw6Of"
      }
    },
    {
      "cell_type": "markdown",
      "source": [
        "##Programming Exercises"
      ],
      "metadata": {
        "id": "IsmvwvtGzPET"
      }
    },
    {
      "cell_type": "markdown",
      "source": [
        "Exercise #1"
      ],
      "metadata": {
        "id": "YubmMBfD0jl9"
      }
    },
    {
      "cell_type": "code",
      "source": [
        "#Obtain all details using individual input commands with variables associated to each.\n",
        "\n",
        "#Inform user that information will be gathered.\n",
        "print(\"Please enter the details asked for. This will help in testing the application's usefulness\")\n",
        "\n",
        "#Input asking for name\n",
        "name=input('Please enter your name:')\n"
      ],
      "metadata": {
        "id": "_M9lYMRo1K0i"
      },
      "execution_count": null,
      "outputs": []
    }
  ]
}