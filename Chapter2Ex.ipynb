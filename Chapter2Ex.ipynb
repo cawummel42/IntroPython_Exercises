{
  "nbformat": 4,
  "nbformat_minor": 0,
  "metadata": {
    "colab": {
      "provenance": [],
      "authorship_tag": "ABX9TyOnxc14asRqIA+1LBypm1Fv",
      "include_colab_link": true
    },
    "kernelspec": {
      "name": "python3",
      "display_name": "Python 3"
    },
    "language_info": {
      "name": "python"
    }
  },
  "cells": [
    {
      "cell_type": "markdown",
      "metadata": {
        "id": "view-in-github",
        "colab_type": "text"
      },
      "source": [
        "<a href=\"https://colab.research.google.com/github/cawummel42/IntroPython_Exercises/blob/main/Chapter2Ex.ipynb\" target=\"_parent\"><img src=\"https://colab.research.google.com/assets/colab-badge.svg\" alt=\"Open In Colab\"/></a>"
      ]
    },
    {
      "cell_type": "markdown",
      "source": [
        "# Chapter 2 Exercises"
      ],
      "metadata": {
        "id": "OwAUuA7xtdta"
      }
    },
    {
      "cell_type": "markdown",
      "source": [
        "##Algorithm Workbench"
      ],
      "metadata": {
        "id": "gQ1WGBPetmBT"
      }
    },
    {
      "cell_type": "markdown",
      "source": [],
      "metadata": {
        "id": "old_qnRttreA"
      }
    }
  ]
}