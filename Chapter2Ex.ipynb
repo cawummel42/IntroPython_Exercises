{
  "nbformat": 4,
  "nbformat_minor": 0,
  "metadata": {
    "colab": {
      "provenance": [],
      "authorship_tag": "ABX9TyOnsssKJX2xf7PYIfVeGnHF",
      "include_colab_link": true
    },
    "kernelspec": {
      "name": "python3",
      "display_name": "Python 3"
    },
    "language_info": {
      "name": "python"
    }
  },
  "cells": [
    {
      "cell_type": "markdown",
      "metadata": {
        "id": "view-in-github",
        "colab_type": "text"
      },
      "source": [
        "<a href=\"https://colab.research.google.com/github/cawummel42/IntroPython_Exercises/blob/main/Chapter2Ex.ipynb\" target=\"_parent\"><img src=\"https://colab.research.google.com/assets/colab-badge.svg\" alt=\"Open In Colab\"/></a>"
      ]
    },
    {
      "cell_type": "markdown",
      "source": [
        "# Chapter 2 Exercises"
      ],
      "metadata": {
        "id": "OwAUuA7xtdta"
      }
    },
    {
      "cell_type": "markdown",
      "source": [
        "##Algorithm Workbench"
      ],
      "metadata": {
        "id": "gQ1WGBPetmBT"
      }
    },
    {
      "cell_type": "markdown",
      "source": [
        "Exercise #1"
      ],
      "metadata": {
        "id": "old_qnRttreA"
      }
    },
    {
      "cell_type": "code",
      "source": [
        "#Ask for user's height using print command.\n",
        "print('Please enter your height below.')\n",
        "\n",
        "#Obtain height using Input command\n",
        "height=input('Enter your height: ')\n",
        "\n",
        "#Print command with variable included in message\n",
        "print('Your height entered is ' + height + '. Thank you for helping!')\n"
      ],
      "metadata": {
        "colab": {
          "base_uri": "https://localhost:8080/"
        },
        "id": "qxW8Pxf4wZOl",
        "outputId": "81548871-af0f-4857-dbe7-45ba3a883bf9"
      },
      "execution_count": null,
      "outputs": [
        {
          "output_type": "stream",
          "name": "stdout",
          "text": [
            "Please enter your height below.\n",
            "Enter your height: 5' 11\"\n",
            "Your height entered is 5' 11\". Thank you for helping!\n"
          ]
        }
      ]
    },
    {
      "cell_type": "markdown",
      "source": [
        "Print command should display as follows:\n",
        "Please enter your height below.\n",
        "\n",
        "Input command should print as follows:\n",
        "Enter your height:\n",
        "\n",
        "Output for the final command should be:\n",
        "Your height entered is \"entered number\". Thank you for helping!\n"
      ],
      "metadata": {
        "id": "KNhX7pacw6Of"
      }
    },
    {
      "cell_type": "markdown",
      "source": [
        "##Programming Exercises"
      ],
      "metadata": {
        "id": "IsmvwvtGzPET"
      }
    },
    {
      "cell_type": "markdown",
      "source": [
        "Exercise #1"
      ],
      "metadata": {
        "id": "YubmMBfD0jl9"
      }
    },
    {
      "cell_type": "code",
      "source": [
        "#Obtain all details using individual input commands with variables associated to each.\n",
        "\n",
        "#Inform user that information will be gathered.\n",
        "print(\"Please enter the details asked for. This will help in testing the application's usefulness\")\n",
        "\n",
        "#Input asking for name\n",
        "name=input('Please enter your name: ')\n",
        "\n",
        "#Input asking for address with city, state, and ZIP\n",
        "address=input('Please enter your address including city, state, and ZIP: ')\n",
        "\n",
        "#Input asking for telephone number\n",
        "phone=input('Please enter your telephone number: ')\n",
        "\n",
        "#Input asking for college major\n",
        "major=input('Please enter your college major: ')\n",
        "\n",
        "#Output all details in a message.\n",
        "print('Thank you ' + name + ' for helping today! We will send out further details on our success to you at: ' + address + '. If we have any further questions we will reach out to you at ' + phone + '. Good luck with your college major ' + major + '!')"
      ],
      "metadata": {
        "colab": {
          "base_uri": "https://localhost:8080/"
        },
        "id": "_M9lYMRo1K0i",
        "outputId": "7f1d0602-f754-4562-c2aa-d08002cbce90"
      },
      "execution_count": null,
      "outputs": [
        {
          "output_type": "stream",
          "name": "stdout",
          "text": [
            "Please enter the details asked for. This will help in testing the application's usefulness\n",
            "Please enter your name: Casey Wummel\n",
            "Please enter your address including city, state, and ZIP: 2068 Delhi St. NE, Holt, MI, 48842\n",
            "Please enter your telephone number: 2489419167\n",
            "Please enter your college major: Computer Science\n",
            "Thank you Casey Wummel for helping today! We will send out further details on our success to you at: 2068 Delhi St. NE, Holt, MI, 48842. If we have any further questions we will reach out to you at 2489419167. Good luck with your college major Computer Science!\n"
          ]
        }
      ]
    },
    {
      "cell_type": "markdown",
      "source": [
        "Output should look like the following:\n",
        "Please enter your name:\n",
        "Please enter your address including city, state, and ZIP:\n",
        "Please enter your telephone number:\n",
        "Please enter your college major:\n"
      ],
      "metadata": {
        "id": "bQTJjBcO2ffa"
      }
    },
    {
      "cell_type": "markdown",
      "source": [
        "Exercise #13"
      ],
      "metadata": {
        "id": "49iRulg34JX5"
      }
    },
    {
      "cell_type": "markdown",
      "source": [
        "Output should disply as follows if no errors:\n",
        "\n",
        "What is the length of the row in feet:\n",
        "\n",
        "What is the amount of space used by end-post assemblies in feet:\n",
        "\n",
        "What is the space between vines in feet:"
      ],
      "metadata": {
        "id": "DeZho4635fBw"
      }
    },
    {
      "cell_type": "code",
      "source": [
        "name=input('What is your name: ')\n",
        "\n",
        "print('Your name is ' + name)"
      ],
      "metadata": {
        "colab": {
          "base_uri": "https://localhost:8080/"
        },
        "id": "6ElUETx3JjWa",
        "outputId": "c137685f-3fe3-40fc-f1c9-325551b418a5"
      },
      "execution_count": 1,
      "outputs": [
        {
          "output_type": "stream",
          "name": "stdout",
          "text": [
            "What is your name: Casey\n",
            "Your name is Casey\n"
          ]
        }
      ]
    },
    {
      "cell_type": "code",
      "source": [
        "#Ask for row length in feet\n",
        "r_length=input('What is the length of the row in feet: ')\n",
        "\n",
        "#Ask for space used by end-post assemblies in feet\n",
        "e_post=input('What is the space used by end-post assemblies in feet: ')\n",
        "\n",
        "#Ask for space between vines in feet\n",
        "vine_space=input('What is the space between vines in feet: ')\n",
        "\n",
        "print('You provided ' + r_length + ', ' + e_post + ', ' + vine_space + '.')\n",
        "\n",
        "#cast the input into an int\n",
        "r_length=int(r_length)\n",
        "\n",
        "#check variable type to confirm casting\n",
        "print(type(r_length))\n",
        "\n",
        "#Cast remaining variables\n",
        "e_post=int(e_post)\n",
        "vine_space=int(vine_space)\n",
        "\n",
        "#Calculate\n",
        "\n",
        "grape_vine=(r_length-(2*e_post))/vine_space\n",
        "\n",
        "#Print results\n",
        "print(f'The space between grape vines calculated is {grape_vine: .2f}')"
      ],
      "metadata": {
        "id": "v34VVFUWKaaG",
        "outputId": "91edb133-26e1-47ff-8190-1da50252f1f9",
        "colab": {
          "base_uri": "https://localhost:8080/"
        }
      },
      "execution_count": 8,
      "outputs": [
        {
          "output_type": "stream",
          "name": "stdout",
          "text": [
            "What is the length of the row in feet: 50\n",
            "What is the space used by end-post assemblies in feet: 4\n",
            "What is the space between vines in feet: 3\n",
            "You provided 50, 4, 3.\n",
            "<class 'int'>\n",
            "The space between grape vines calculated is  14.00\n"
          ]
        }
      ]
    }
  ]
}