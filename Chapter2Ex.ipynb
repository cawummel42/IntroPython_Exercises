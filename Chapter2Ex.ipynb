{
  "nbformat": 4,
  "nbformat_minor": 0,
  "metadata": {
    "colab": {
      "provenance": [],
      "authorship_tag": "ABX9TyMk+CJyWlhoan+6I0nbSTGY",
      "include_colab_link": true
    },
    "kernelspec": {
      "name": "python3",
      "display_name": "Python 3"
    },
    "language_info": {
      "name": "python"
    }
  },
  "cells": [
    {
      "cell_type": "markdown",
      "metadata": {
        "id": "view-in-github",
        "colab_type": "text"
      },
      "source": [
        "<a href=\"https://colab.research.google.com/github/cawummel42/IntroPython_Exercises/blob/main/Chapter2Ex.ipynb\" target=\"_parent\"><img src=\"https://colab.research.google.com/assets/colab-badge.svg\" alt=\"Open In Colab\"/></a>"
      ]
    },
    {
      "cell_type": "markdown",
      "source": [
        "# Chapter 2 Exercises"
      ],
      "metadata": {
        "id": "OwAUuA7xtdta"
      }
    },
    {
      "cell_type": "markdown",
      "source": [
        "##Algorithm Workbench"
      ],
      "metadata": {
        "id": "gQ1WGBPetmBT"
      }
    },
    {
      "cell_type": "markdown",
      "source": [
        "Exercise #1"
      ],
      "metadata": {
        "id": "old_qnRttreA"
      }
    },
    {
      "cell_type": "code",
      "source": [
        "#Ask for user's height using print command.\n",
        "print('Please enter your height below.')\n",
        "\n",
        "#Obtain height using Input command\n",
        "height=input('Enter your height: ')\n",
        "\n",
        "#Print command with variable included in message\n",
        "print('Your height entered is ' + height + '. Thank you for helping!')\n"
      ],
      "metadata": {
        "colab": {
          "base_uri": "https://localhost:8080/"
        },
        "id": "qxW8Pxf4wZOl",
        "outputId": "81548871-af0f-4857-dbe7-45ba3a883bf9"
      },
      "execution_count": 2,
      "outputs": [
        {
          "output_type": "stream",
          "name": "stdout",
          "text": [
            "Please enter your height below.\n",
            "Enter your height: 5' 11\"\n",
            "Your height entered is 5' 11\". Thank you for helping!\n"
          ]
        }
      ]
    },
    {
      "cell_type": "markdown",
      "source": [
        "Print command should display as follows:\n",
        "Please enter your height below.\n",
        "\n",
        "Input command should print as follows:\n",
        "Enter your height:\n",
        "\n",
        "Output for the final command should be:\n",
        "Your height entered is \"entered number\". Thank you for helping!\n"
      ],
      "metadata": {
        "id": "KNhX7pacw6Of"
      }
    },
    {
      "cell_type": "markdown",
      "source": [
        "##Programming Exercises"
      ],
      "metadata": {
        "id": "IsmvwvtGzPET"
      }
    },
    {
      "cell_type": "markdown",
      "source": [
        "Exercise #1"
      ],
      "metadata": {
        "id": "YubmMBfD0jl9"
      }
    },
    {
      "cell_type": "code",
      "source": [
        "#Obtain all details using individual input commands with variables associated to each.\n",
        "\n",
        "#Inform user that information will be gathered.\n",
        "print(\"Please enter the details asked for. This will help in testing the application's usefulness\")\n",
        "\n",
        "#Input asking for name\n",
        "name=input('Please enter your name: ')\n",
        "\n",
        "#Input asking for address with city, state, and ZIP\n",
        "address=input('Please enter your address including city, state, and ZIP: ')\n",
        "\n",
        "#Input asking for telephone number\n",
        "phone=input('Please enter your telephone number: ')\n",
        "\n",
        "#Input asking for college major\n",
        "major=input('Please enter your college major: ')\n",
        "\n",
        "#Output all details in a message.\n",
        "print('Thank you ' + name + ' for helping today! We will send out further details on our success to you at: ' + address + '. If we have any further questions we will reach out to you at ' + phone + '. Good luck with your college major ' + major + '!')"
      ],
      "metadata": {
        "colab": {
          "base_uri": "https://localhost:8080/"
        },
        "id": "_M9lYMRo1K0i",
        "outputId": "7f1d0602-f754-4562-c2aa-d08002cbce90"
      },
      "execution_count": 5,
      "outputs": [
        {
          "output_type": "stream",
          "name": "stdout",
          "text": [
            "Please enter the details asked for. This will help in testing the application's usefulness\n",
            "Please enter your name: Casey Wummel\n",
            "Please enter your address including city, state, and ZIP: 2068 Delhi St. NE, Holt, MI, 48842\n",
            "Please enter your telephone number: 2489419167\n",
            "Please enter your college major: Computer Science\n",
            "Thank you Casey Wummel for helping today! We will send out further details on our success to you at: 2068 Delhi St. NE, Holt, MI, 48842. If we have any further questions we will reach out to you at 2489419167. Good luck with your college major Computer Science!\n"
          ]
        }
      ]
    },
    {
      "cell_type": "markdown",
      "source": [
        "Output should look like the following:\n",
        "Please enter your name:\n",
        "Please enter your address including city, state, and ZIP:\n",
        "Please enter your telephone number:\n",
        "Please enter your college major:\n"
      ],
      "metadata": {
        "id": "bQTJjBcO2ffa"
      }
    },
    {
      "cell_type": "markdown",
      "source": [
        "Exercise #13"
      ],
      "metadata": {
        "id": "49iRulg34JX5"
      }
    },
    {
      "cell_type": "markdown",
      "source": [
        "Output should disply as follows if no errors:\n",
        "\n",
        "What is the length of the row in feet:\n",
        "\n",
        "What is the amount of space used by end-post assemblies in feet:\n",
        "\n",
        "What is the space between vines in feet:"
      ],
      "metadata": {
        "id": "DeZho4635fBw"
      }
    },
    {
      "cell_type": "code",
      "source": [
        "name=input('What is your name: ')\n",
        "\n",
        "print('Your name is ' + name)"
      ],
      "metadata": {
        "colab": {
          "base_uri": "https://localhost:8080/",
          "height": 233
        },
        "id": "6ElUETx3JjWa",
        "outputId": "4222ffc9-c4b6-412f-f0c0-ed09cf627d4f"
      },
      "execution_count": 47,
      "outputs": [
        {
          "name": "stdout",
          "output_type": "stream",
          "text": [
            "What is your name: Casey\n"
          ]
        },
        {
          "output_type": "error",
          "ename": "TypeError",
          "evalue": "'str' object is not callable",
          "traceback": [
            "\u001b[0;31m---------------------------------------------------------------------------\u001b[0m",
            "\u001b[0;31mTypeError\u001b[0m                                 Traceback (most recent call last)",
            "\u001b[0;32m<ipython-input-47-8b78e78cdb7b>\u001b[0m in \u001b[0;36m<cell line: 3>\u001b[0;34m()\u001b[0m\n\u001b[1;32m      1\u001b[0m \u001b[0mname\u001b[0m\u001b[0;34m=\u001b[0m\u001b[0minput\u001b[0m\u001b[0;34m(\u001b[0m\u001b[0;34m'What is your name: '\u001b[0m\u001b[0;34m)\u001b[0m\u001b[0;34m\u001b[0m\u001b[0;34m\u001b[0m\u001b[0m\n\u001b[1;32m      2\u001b[0m \u001b[0;34m\u001b[0m\u001b[0m\n\u001b[0;32m----> 3\u001b[0;31m \u001b[0mprint\u001b[0m\u001b[0;34m(\u001b[0m\u001b[0;34m'Your name is '\u001b[0m \u001b[0;34m+\u001b[0m \u001b[0mname\u001b[0m\u001b[0;34m)\u001b[0m\u001b[0;34m\u001b[0m\u001b[0;34m\u001b[0m\u001b[0m\n\u001b[0m",
            "\u001b[0;31mTypeError\u001b[0m: 'str' object is not callable"
          ]
        }
      ]
    }
  ]
}