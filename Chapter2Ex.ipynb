{
  "nbformat": 4,
  "nbformat_minor": 0,
  "metadata": {
    "colab": {
      "provenance": [],
      "authorship_tag": "ABX9TyOWKnTIlF2KBnWJz5LFp5ou",
      "include_colab_link": true
    },
    "kernelspec": {
      "name": "python3",
      "display_name": "Python 3"
    },
    "language_info": {
      "name": "python"
    }
  },
  "cells": [
    {
      "cell_type": "markdown",
      "metadata": {
        "id": "view-in-github",
        "colab_type": "text"
      },
      "source": [
        "<a href=\"https://colab.research.google.com/github/cawummel42/IntroPython_Exercises/blob/main/Chapter2Ex.ipynb\" target=\"_parent\"><img src=\"https://colab.research.google.com/assets/colab-badge.svg\" alt=\"Open In Colab\"/></a>"
      ]
    },
    {
      "cell_type": "markdown",
      "source": [
        "# Chapter 2 Exercises"
      ],
      "metadata": {
        "id": "OwAUuA7xtdta"
      }
    },
    {
      "cell_type": "markdown",
      "source": [
        "##Algorithm Workbench"
      ],
      "metadata": {
        "id": "gQ1WGBPetmBT"
      }
    },
    {
      "cell_type": "markdown",
      "source": [
        "Exercise #1"
      ],
      "metadata": {
        "id": "old_qnRttreA"
      }
    },
    {
      "cell_type": "code",
      "source": [
        "#Ask for user's height using print command.\n",
        "print('Please enter your height below.')"
      ],
      "metadata": {
        "id": "qxW8Pxf4wZOl"
      },
      "execution_count": null,
      "outputs": []
    }
  ]
}