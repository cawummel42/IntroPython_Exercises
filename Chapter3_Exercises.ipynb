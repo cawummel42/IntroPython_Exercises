{
  "nbformat": 4,
  "nbformat_minor": 0,
  "metadata": {
    "colab": {
      "provenance": [],
      "authorship_tag": "ABX9TyN/XuGsHK4qCqHCTHuczcrz",
      "include_colab_link": true
    },
    "kernelspec": {
      "name": "python3",
      "display_name": "Python 3"
    },
    "language_info": {
      "name": "python"
    }
  },
  "cells": [
    {
      "cell_type": "markdown",
      "metadata": {
        "id": "view-in-github",
        "colab_type": "text"
      },
      "source": [
        "<a href=\"https://colab.research.google.com/github/cawummel42/IntroPython_Exercises/blob/main/Chapter3_Exercises.ipynb\" target=\"_parent\"><img src=\"https://colab.research.google.com/assets/colab-badge.svg\" alt=\"Open In Colab\"/></a>"
      ]
    },
    {
      "cell_type": "markdown",
      "source": [
        "#Chapter 3 Exercises"
      ],
      "metadata": {
        "id": "3C6sg-5GLX7J"
      }
    },
    {
      "cell_type": "markdown",
      "source": [
        "##Algorithm Workbench Exercises 4 & 5"
      ],
      "metadata": {
        "id": "mcBjNQ3rLy4W"
      }
    },
    {
      "cell_type": "markdown",
      "source": [
        "###Algorithm Workbench Exercise 4\n"
      ],
      "metadata": {
        "id": "4RblT9EdL5uo"
      }
    },
    {
      "cell_type": "code",
      "source": [
        "#This exercise is to correct the formatting of the if-else statements provided into a correct format.\n",
        "\n",
        "if score >= A_score:\n",
        "  print('Your grade is A.')\n",
        "else:\n",
        "  if score >= B_score:\n",
        "    print('Your grade is B.')\n",
        "  else:\n",
        "    if score >= C_score:\n",
        "      print('Your grade is a C.')\n",
        "    else:\n",
        "      if score >= D_score:\n",
        "        print('Your grade is a D.')\n",
        "      else:\n",
        "        print('Your grade is a F.')\n"
      ],
      "metadata": {
        "id": "bvCmqLMpMIw8"
      },
      "execution_count": null,
      "outputs": []
    },
    {
      "cell_type": "markdown",
      "source": [
        "###Algorithm Workbench Exercise 5\n",
        "\n"
      ],
      "metadata": {
        "id": "-rCg_q4sN4nh"
      }
    },
    {
      "cell_type": "code",
      "source": [
        "#Write code for a nested decision structure for displaying the greater amount between amount1 or amount2\n",
        "#Required amount1 must be greater than 10\n",
        "#Required amount2 must be less than 100\n",
        "\n",
        "#Ask user for input on amount1 and amount2 instead of hard coded numbers\n",
        "amount1 = input('Please enter a number between 10 and 100: ')\n",
        "amount2 = input('Please enter a number between 10 and 100: ')\n",
        "\n",
        "amount1 = int(amount1)\n",
        "amount2 = int(amount2)\n",
        "\n",
        "#Nested if-else statement to print the larger amount\n",
        "if amount1 > 10 and amount2 < 100:\n",
        "  if amount1 > amount2:\n",
        "    print(amount1)\n",
        "  else:\n",
        "    if amount1 < amount2:\n",
        "      print(amount2)\n",
        "else:\n",
        "  print('Error the numbers are out of scope!')"
      ],
      "metadata": {
        "colab": {
          "base_uri": "https://localhost:8080/"
        },
        "id": "mP1xcNaXN3qF",
        "outputId": "62b64611-6c41-4614-da07-b437f077a13a"
      },
      "execution_count": 4,
      "outputs": [
        {
          "output_type": "stream",
          "name": "stdout",
          "text": [
            "Please enter a number between 10 and 100: 15\n",
            "Please enter a number between 10 and 100: 40\n",
            "40\n"
          ]
        }
      ]
    }
  ]
}