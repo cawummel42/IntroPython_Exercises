{
  "nbformat": 4,
  "nbformat_minor": 0,
  "metadata": {
    "colab": {
      "provenance": [],
      "authorship_tag": "ABX9TyN7cSVyBkt3WPQgtG5rOFZI",
      "include_colab_link": true
    },
    "kernelspec": {
      "name": "python3",
      "display_name": "Python 3"
    },
    "language_info": {
      "name": "python"
    }
  },
  "cells": [
    {
      "cell_type": "markdown",
      "metadata": {
        "id": "view-in-github",
        "colab_type": "text"
      },
      "source": [
        "<a href=\"https://colab.research.google.com/github/cawummel42/IntroPython_Exercises/blob/main/Chapter3_Exercises.ipynb\" target=\"_parent\"><img src=\"https://colab.research.google.com/assets/colab-badge.svg\" alt=\"Open In Colab\"/></a>"
      ]
    },
    {
      "cell_type": "markdown",
      "source": [
        "#Chapter 3 Exercises"
      ],
      "metadata": {
        "id": "3C6sg-5GLX7J"
      }
    },
    {
      "cell_type": "markdown",
      "source": [
        "##Algorithm Workbench Exercises 4 & 5"
      ],
      "metadata": {
        "id": "mcBjNQ3rLy4W"
      }
    },
    {
      "cell_type": "markdown",
      "source": [
        "###Algorithm Workbench Exercise 4\n"
      ],
      "metadata": {
        "id": "4RblT9EdL5uo"
      }
    },
    {
      "cell_type": "code",
      "source": [
        "#This exercise is to correct the formatting of the if-else statements provided into a correct format.\n",
        "\n"
      ],
      "metadata": {
        "id": "bvCmqLMpMIw8"
      },
      "execution_count": null,
      "outputs": []
    }
  ]
}