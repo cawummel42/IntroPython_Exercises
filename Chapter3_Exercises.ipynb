{
  "nbformat": 4,
  "nbformat_minor": 0,
  "metadata": {
    "colab": {
      "provenance": [],
      "authorship_tag": "ABX9TyPNq7QwAn11PYMXekGHNjuj",
      "include_colab_link": true
    },
    "kernelspec": {
      "name": "python3",
      "display_name": "Python 3"
    },
    "language_info": {
      "name": "python"
    }
  },
  "cells": [
    {
      "cell_type": "markdown",
      "metadata": {
        "id": "view-in-github",
        "colab_type": "text"
      },
      "source": [
        "<a href=\"https://colab.research.google.com/github/cawummel42/IntroPython_Exercises/blob/main/Chapter3_Exercises.ipynb\" target=\"_parent\"><img src=\"https://colab.research.google.com/assets/colab-badge.svg\" alt=\"Open In Colab\"/></a>"
      ]
    },
    {
      "cell_type": "markdown",
      "source": [
        "#Chapter 3 Exercises"
      ],
      "metadata": {
        "id": "3C6sg-5GLX7J"
      }
    },
    {
      "cell_type": "markdown",
      "source": [
        "##Algorithm Workbench Exercises 4 & 5"
      ],
      "metadata": {
        "id": "mcBjNQ3rLy4W"
      }
    },
    {
      "cell_type": "markdown",
      "source": [
        "###Algorithm Workbench Exercise 4\n"
      ],
      "metadata": {
        "id": "4RblT9EdL5uo"
      }
    },
    {
      "cell_type": "code",
      "source": [
        "#This exercise is to correct the formatting of the if-else statements provided into a correct format.\n",
        "\n",
        "if score >= A_score:\n",
        "  print('Your grade is A.')\n",
        "else:\n",
        "  if score >= B_score:\n",
        "    print('Your grade is B.')\n",
        "  else:\n",
        "    if score >= C_score:\n",
        "      print('Your grade is a C.')\n",
        "    else:\n",
        "      if score >= D_score:\n",
        "        print('Your grade is a D.')\n",
        "      else:\n",
        "        print('Your grade is a F.')\n"
      ],
      "metadata": {
        "id": "bvCmqLMpMIw8"
      },
      "execution_count": null,
      "outputs": []
    },
    {
      "cell_type": "markdown",
      "source": [
        "###Algorithm Workbench Exercise 5\n",
        "\n"
      ],
      "metadata": {
        "id": "-rCg_q4sN4nh"
      }
    },
    {
      "cell_type": "code",
      "source": [
        "#Write code for a nested decision structure for displaying the greater amount between amount1 or amount2\n",
        "#Required amount1 must be greater than 10\n",
        "#Required amount2 must be less than 100\n",
        "\n",
        "#Ask user for input on amount1 and amount2 instead of hard coded numbers\n",
        "amount1 = input('Please enter a number between 10 and 100: ')\n",
        "amount2 = input('Please enter a number between 10 and 100: ')\n",
        "\n",
        "#Case the input into integers for comparison in the if-else statement\n",
        "amount1 = int(amount1)\n",
        "amount2 = int(amount2)\n",
        "\n",
        "#Nested if-else statement to print the larger amount\n",
        "if amount1 > 10 and amount2 < 100:\n",
        "  if amount1 > amount2:\n",
        "    print(amount1)\n",
        "  else:\n",
        "    if amount1 < amount2:\n",
        "      print(amount2)\n",
        "else:\n",
        "  print('Error the numbers are out of scope!')"
      ],
      "metadata": {
        "colab": {
          "base_uri": "https://localhost:8080/"
        },
        "id": "mP1xcNaXN3qF",
        "outputId": "62b64611-6c41-4614-da07-b437f077a13a"
      },
      "execution_count": 4,
      "outputs": [
        {
          "output_type": "stream",
          "name": "stdout",
          "text": [
            "Please enter a number between 10 and 100: 15\n",
            "Please enter a number between 10 and 100: 40\n",
            "40\n"
          ]
        }
      ]
    },
    {
      "cell_type": "markdown",
      "source": [
        "###Programming Exercise 1"
      ],
      "metadata": {
        "id": "jnBTI8PpS72v"
      }
    },
    {
      "cell_type": "code",
      "source": [
        "#Obtaining User Input for a number between 1 and 7 to then display the corresponding day of the week. If any other number is entered an Error message will be displayed to the User.\n",
        "\n",
        "#Obtain user input for variable\n",
        "day_number = input('Please enter a number between 1 and 7 to display a corresponding day of the week: ')\n",
        "\n",
        "#Cast the input into an integer\n",
        "day_number = int(day_number)\n",
        "\n",
        "#Write an if-else statement that will display the day of the week for the number input and an error message for any other number entered.\n",
        "if 1 <= day_number <= 7:\n",
        "  if day_number == 1:\n",
        "    print('The day of the week is Monday.')\n",
        "  else:\n",
        "    if day_number == 2:\n",
        "      print('The day of the week is Tuesday.')\n",
        "    else:\n",
        "      if day_number == 3:\n",
        "        print('The day of the week is Wednesday.')\n",
        "      else:\n",
        "        if day_number == 4:\n",
        "          print('The day of the week is Thursday.')\n",
        "        else:\n",
        "          if day_number == 5:\n",
        "            print('The day of the week is Friday.')\n",
        "          else:\n",
        "            if day_number == 6:\n",
        "              print('The day of the week is Saturday.')\n",
        "            else:\n",
        "              if day_number == 7:\n",
        "                print('The day of the week is Sunday.')\n",
        "else:\n",
        "  print('ERROR! User has cheated the game. REBOOT!')"
      ],
      "metadata": {
        "colab": {
          "base_uri": "https://localhost:8080/"
        },
        "id": "ywIEaUNBS-u0",
        "outputId": "2eb68acc-a994-4db6-a5d0-e713821d77cf"
      },
      "execution_count": 7,
      "outputs": [
        {
          "output_type": "stream",
          "name": "stdout",
          "text": [
            "Please enter a number between 1 and 7 to display a corresponding day of the week: 45\n",
            "ERROR! User has cheated the game. REBOOT!\n"
          ]
        }
      ]
    },
    {
      "cell_type": "markdown",
      "source": [
        "###Programming Exercise 5"
      ],
      "metadata": {
        "id": "BxSKA7-hWoEP"
      }
    },
    {
      "cell_type": "code",
      "source": [
        "#Program asking user to input mass in kilograms to calculate the weight in newtons\n",
        "\n",
        "#Obtain mass\n",
        "mass = input('Please enter the mass in kilograms: ')\n",
        "\n",
        "#Cast mass into an integer\n",
        "mass = int(mass)\n",
        "\n",
        "#Calculate the weight\n",
        "weight = mass * 9.8\n",
        "\n",
        "#print(weight)\n",
        "\n",
        "#If-Else statements indicating if the weight is too heavy or too light, and just right.\n",
        "if weight > 500:\n",
        "  print('This is too heavy!')\n",
        "else:\n",
        "  if weight > 100:\n",
        "    print('This is too light!')\n",
        "  else:\n",
        "    print('This is just right.')"
      ],
      "metadata": {
        "colab": {
          "base_uri": "https://localhost:8080/"
        },
        "id": "ph5jB81YWuZa",
        "outputId": "ba38635e-ad4b-4863-9568-f1705d2e0c30"
      },
      "execution_count": 11,
      "outputs": [
        {
          "output_type": "stream",
          "name": "stdout",
          "text": [
            "Please enter the mass in kilograms: 5\n",
            "This is too heavy!\n"
          ]
        }
      ]
    }
  ]
}