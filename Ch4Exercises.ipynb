{
  "nbformat": 4,
  "nbformat_minor": 0,
  "metadata": {
    "colab": {
      "provenance": [],
      "authorship_tag": "ABX9TyPpwzTfeKUSffjgcW059819",
      "include_colab_link": true
    },
    "kernelspec": {
      "name": "python3",
      "display_name": "Python 3"
    },
    "language_info": {
      "name": "python"
    }
  },
  "cells": [
    {
      "cell_type": "markdown",
      "metadata": {
        "id": "view-in-github",
        "colab_type": "text"
      },
      "source": [
        "<a href=\"https://colab.research.google.com/github/cawummel42/IntroPython_Exercises/blob/main/Ch4Exercises.ipynb\" target=\"_parent\"><img src=\"https://colab.research.google.com/assets/colab-badge.svg\" alt=\"Open In Colab\"/></a>"
      ]
    },
    {
      "cell_type": "markdown",
      "source": [
        "#Chapter 4 Algorithm Workbench and Programming Exercises"
      ],
      "metadata": {
        "id": "7JYYKDvYPZi1"
      }
    },
    {
      "cell_type": "markdown",
      "source": [
        "## Algorithm Workbench Problem 1"
      ],
      "metadata": {
        "id": "k-zia3PkPjjq"
      }
    },
    {
      "cell_type": "code",
      "execution_count": 2,
      "metadata": {
        "colab": {
          "base_uri": "https://localhost:8080/"
        },
        "id": "LH3ziUH5PXyT",
        "outputId": "ce78b23a-3eb1-4af3-a667-44811ff5e088"
      },
      "outputs": [
        {
          "output_type": "stream",
          "name": "stdout",
          "text": [
            "Enter a number: 10\n",
            "100\n"
          ]
        }
      ],
      "source": [
        "#Ask user to input a number and multiply utnil this number is over 100.\n",
        "\n",
        "#Establish variable\n",
        "product = 0\n",
        "\n",
        "#start of while loop\n",
        "while product < 100:\n",
        "  number = int(input('Enter a number: '))\n",
        "  product = number * 10\n",
        "  print(product)"
      ]
    }
  ]
}