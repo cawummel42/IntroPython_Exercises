{
  "nbformat": 4,
  "nbformat_minor": 0,
  "metadata": {
    "colab": {
      "provenance": [],
      "authorship_tag": "ABX9TyPrmA4LR7wgVDbMoC0skP7R",
      "include_colab_link": true
    },
    "kernelspec": {
      "name": "python3",
      "display_name": "Python 3"
    },
    "language_info": {
      "name": "python"
    }
  },
  "cells": [
    {
      "cell_type": "markdown",
      "metadata": {
        "id": "view-in-github",
        "colab_type": "text"
      },
      "source": [
        "<a href=\"https://colab.research.google.com/github/cawummel42/IntroPython_Exercises/blob/main/Ch4Exercises.ipynb\" target=\"_parent\"><img src=\"https://colab.research.google.com/assets/colab-badge.svg\" alt=\"Open In Colab\"/></a>"
      ]
    },
    {
      "cell_type": "markdown",
      "source": [
        "#Chapter 4 Algorithm Workbench and Programming Exercises"
      ],
      "metadata": {
        "id": "7JYYKDvYPZi1"
      }
    },
    {
      "cell_type": "markdown",
      "source": [
        "## Algorithm Workbench Problem 1"
      ],
      "metadata": {
        "id": "k-zia3PkPjjq"
      }
    },
    {
      "cell_type": "code",
      "execution_count": 2,
      "metadata": {
        "colab": {
          "base_uri": "https://localhost:8080/"
        },
        "id": "LH3ziUH5PXyT",
        "outputId": "ce78b23a-3eb1-4af3-a667-44811ff5e088"
      },
      "outputs": [
        {
          "output_type": "stream",
          "name": "stdout",
          "text": [
            "Enter a number: 10\n",
            "100\n"
          ]
        }
      ],
      "source": [
        "#Ask user to input a number and multiply utnil this number is over 100.\n",
        "\n",
        "#Establish variable\n",
        "product = 0\n",
        "\n",
        "#start of while loop\n",
        "while product < 100:\n",
        "  number = int(input('Enter a number: '))\n",
        "  product = number * 10\n",
        "  print(product)"
      ]
    },
    {
      "cell_type": "markdown",
      "source": [
        "## Algorithm Workbench Problem 8"
      ],
      "metadata": {
        "id": "tRuynkP_TVKW"
      }
    },
    {
      "cell_type": "code",
      "source": [
        "#Prompt a user to enter a positive nonzero number and validate the input\n",
        "\n",
        "#Establish variable and ask for initial input\n",
        "user_num = float(input('Please enter a positive nonzero number: '))\n",
        "\n",
        "#Start the while loop\n",
        "while user_num <= 0:\n",
        "  print('The User input entered is invalid.')\n",
        "  user_num = float(input('Please enter a positive nonzero number: '))\n",
        "print('Thank you for not working with Hexadecimal, User!')"
      ],
      "metadata": {
        "colab": {
          "base_uri": "https://localhost:8080/"
        },
        "id": "O7ZPlW2ETqvQ",
        "outputId": "b8639e00-c0c8-4c06-957b-bee9052406fc"
      },
      "execution_count": 5,
      "outputs": [
        {
          "output_type": "stream",
          "name": "stdout",
          "text": [
            "Please enter a positive nonzero number: -5\n",
            "The User input entered is invalid.\n",
            "Please enter a positive nonzero number: 5\n",
            "Thank you for not working with Hexadecimal, User!\n"
          ]
        }
      ]
    },
    {
      "cell_type": "markdown",
      "source": [
        "## Programming Exercise 1"
      ],
      "metadata": {
        "id": "ag3T6i2LVmB6"
      }
    },
    {
      "cell_type": "code",
      "source": [
        "#Obtain user input for bugs collected each day for 5 days.\n",
        "\n",
        "#Establish starting variables.\n",
        "total_days = 5\n",
        "day = 1\n",
        "bugs_collected = 0\n",
        "\n",
        "#Start the while loop using the days vs total days as the control\n",
        "while day <= total_days:\n",
        "  print('day: ', day)\n",
        "  user_bug = int(input('Please enter the number of bugs collected today: '))\n",
        "  bugs_collected += user_bug\n",
        "  day += 1\n",
        "\n",
        "print('Total bugs collected by the User: ', bugs_collected)"
      ],
      "metadata": {
        "colab": {
          "base_uri": "https://localhost:8080/"
        },
        "id": "iDKmfr3gVtqc",
        "outputId": "a84998e1-6530-4b57-8107-f885e31d58b1"
      },
      "execution_count": 8,
      "outputs": [
        {
          "output_type": "stream",
          "name": "stdout",
          "text": [
            "day:  1\n",
            "Please enter the number of bugs collected today: 1\n",
            "day:  2\n",
            "Please enter the number of bugs collected today: 5\n",
            "day:  3\n",
            "Please enter the number of bugs collected today: 32\n",
            "day:  4\n",
            "Please enter the number of bugs collected today: 15\n",
            "day:  5\n",
            "Please enter the number of bugs collected today: 6\n",
            "Total bugs collected by the User:  59\n"
          ]
        }
      ]
    },
    {
      "cell_type": "markdown",
      "source": [
        "##Programming Exercise 4 Distance Traveled"
      ],
      "metadata": {
        "id": "h2tFfbG5X1w1"
      }
    },
    {
      "cell_type": "code",
      "source": [
        "#Ask user for input for speed traveled in mph and time in hours then calculate the distance for each hour traveled\n",
        "\n",
        "#establish variables\n",
        "start_time = 0\n",
        "\n",
        "#Obtain Variables\n",
        "speed = int(input('Please enter the speed traveled: '))\n",
        "time = int(input('Please enter the number of hours it took to travel: '))\n",
        "\n",
        "#Add formatting for hour and distance\n",
        "print('Hour   Distance Traveled')\n",
        "\n",
        "#Start a for loop to iterate through\n",
        "for x in range(1, time +1):\n",
        "  distance = speed * x\n",
        "  print(x, \"\\t\", format(distance, '.0f') , sep =\"\")"
      ],
      "metadata": {
        "colab": {
          "base_uri": "https://localhost:8080/"
        },
        "id": "tHbUCdL1YAPR",
        "outputId": "359cb77d-62e0-4389-f4f7-dc970e326dd2"
      },
      "execution_count": 11,
      "outputs": [
        {
          "output_type": "stream",
          "name": "stdout",
          "text": [
            "Please enter the speed traveled: 75\n",
            "Please enter the number of hours it took to travel: 5\n",
            "Hour   Distance Traveled\n",
            "1\t75\n",
            "2\t150\n",
            "3\t225\n",
            "4\t300\n",
            "5\t375\n"
          ]
        }
      ]
    }
  ]
}