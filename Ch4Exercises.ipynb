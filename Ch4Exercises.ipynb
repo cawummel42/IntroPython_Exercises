{
  "nbformat": 4,
  "nbformat_minor": 0,
  "metadata": {
    "colab": {
      "provenance": [],
      "authorship_tag": "ABX9TyN/58XdZKssE14lWGhv6eiN",
      "include_colab_link": true
    },
    "kernelspec": {
      "name": "python3",
      "display_name": "Python 3"
    },
    "language_info": {
      "name": "python"
    }
  },
  "cells": [
    {
      "cell_type": "markdown",
      "metadata": {
        "id": "view-in-github",
        "colab_type": "text"
      },
      "source": [
        "<a href=\"https://colab.research.google.com/github/cawummel42/IntroPython_Exercises/blob/main/Ch4Exercises.ipynb\" target=\"_parent\"><img src=\"https://colab.research.google.com/assets/colab-badge.svg\" alt=\"Open In Colab\"/></a>"
      ]
    },
    {
      "cell_type": "markdown",
      "source": [
        "#Chapter 4 Algorithm Workbench and Programming Exercises"
      ],
      "metadata": {
        "id": "7JYYKDvYPZi1"
      }
    },
    {
      "cell_type": "markdown",
      "source": [
        "## Algorithm Workbench Problem 1"
      ],
      "metadata": {
        "id": "k-zia3PkPjjq"
      }
    },
    {
      "cell_type": "code",
      "execution_count": 2,
      "metadata": {
        "colab": {
          "base_uri": "https://localhost:8080/"
        },
        "id": "LH3ziUH5PXyT",
        "outputId": "ce78b23a-3eb1-4af3-a667-44811ff5e088"
      },
      "outputs": [
        {
          "output_type": "stream",
          "name": "stdout",
          "text": [
            "Enter a number: 10\n",
            "100\n"
          ]
        }
      ],
      "source": [
        "#Ask user to input a number and multiply utnil this number is over 100.\n",
        "\n",
        "#Establish variable\n",
        "product = 0\n",
        "\n",
        "#start of while loop\n",
        "while product < 100:\n",
        "  number = int(input('Enter a number: '))\n",
        "  product = number * 10\n",
        "  print(product)"
      ]
    },
    {
      "cell_type": "markdown",
      "source": [
        "## Algorithm Workbench Problem"
      ],
      "metadata": {
        "id": "tRuynkP_TVKW"
      }
    },
    {
      "cell_type": "code",
      "source": [
        "#Prompt a user to enter a positive nonzero number and validate the input\n",
        "\n",
        "#Establish variable and ask for initial input\n",
        "user_num = float(input('Please enter a positive nonzero number: '))\n",
        "\n",
        "#Start the while loop\n",
        "while user_num <= 0:\n",
        "  print('The User input entered is invalid.')\n",
        "  user_num = float(input('Please enter a positive nonzero number: '))\n",
        "print('Thank you for not working with Hexadecimal, User!')"
      ],
      "metadata": {
        "colab": {
          "base_uri": "https://localhost:8080/"
        },
        "id": "O7ZPlW2ETqvQ",
        "outputId": "b8639e00-c0c8-4c06-957b-bee9052406fc"
      },
      "execution_count": 5,
      "outputs": [
        {
          "output_type": "stream",
          "name": "stdout",
          "text": [
            "Please enter a positive nonzero number: -5\n",
            "The User input entered is invalid.\n",
            "Please enter a positive nonzero number: 5\n",
            "Thank you for not working with Hexadecimal, User!\n"
          ]
        }
      ]
    }
  ]
}