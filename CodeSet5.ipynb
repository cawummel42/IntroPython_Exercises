{
  "nbformat": 4,
  "nbformat_minor": 0,
  "metadata": {
    "colab": {
      "provenance": [],
      "authorship_tag": "ABX9TyMp18wiwFg5+23YAAZeJpC5",
      "include_colab_link": true
    },
    "kernelspec": {
      "name": "python3",
      "display_name": "Python 3"
    },
    "language_info": {
      "name": "python"
    }
  },
  "cells": [
    {
      "cell_type": "markdown",
      "metadata": {
        "id": "view-in-github",
        "colab_type": "text"
      },
      "source": [
        "<a href=\"https://colab.research.google.com/github/cawummel42/IntroPython_Exercises/blob/main/CodeSet5.ipynb\" target=\"_parent\"><img src=\"https://colab.research.google.com/assets/colab-badge.svg\" alt=\"Open In Colab\"/></a>"
      ]
    },
    {
      "cell_type": "markdown",
      "source": [
        "#Coding Set 5"
      ],
      "metadata": {
        "id": "44agzs5YX32B"
      }
    },
    {
      "cell_type": "markdown",
      "source": [
        "##Algorithm Workbench"
      ],
      "metadata": {
        "id": "EysAPx_dX9wl"
      }
    },
    {
      "cell_type": "markdown",
      "source": [
        "###Problem 1"
      ],
      "metadata": {
        "id": "YJypOao-aLAC"
      }
    },
    {
      "cell_type": "code",
      "execution_count": 3,
      "metadata": {
        "colab": {
          "base_uri": "https://localhost:8080/"
        },
        "id": "Q68-cqMeX0Wl",
        "outputId": "d2211a83-1c2d-4a2f-c0a5-b88fffb77389"
      },
      "outputs": [
        {
          "output_type": "stream",
          "name": "stdout",
          "text": [
            "20\n",
            "30\n",
            "19880\n"
          ]
        }
      ],
      "source": [
        "#Write a funtion name time_ten and accept an argument and display product after multiplying by 10\n",
        "\n",
        "#Define funtion\n",
        "def times_ten(number):\n",
        "  value = number * 10\n",
        "  print(value)\n",
        "\n",
        "times_ten(2)\n",
        "times_ten(3)\n",
        "times_ten(1988)"
      ]
    },
    {
      "cell_type": "markdown",
      "source": [
        "###Problem 6"
      ],
      "metadata": {
        "id": "Y0-GK8J6ckk8"
      }
    },
    {
      "cell_type": "code",
      "source": [
        "#Display a random number between 1 and 100 in a funtion\n",
        "\n",
        "#Import random module\n",
        "import random\n",
        "\n",
        "#define function\n",
        "def main():\n",
        "  #Get a random number and assign it to rand\n",
        "  rand = random.randint(1, 100)\n",
        "\n",
        "  #Display results\n",
        "  print(f'The number is {rand}.')\n",
        "\n",
        "#Call funtion\n",
        "main()"
      ],
      "metadata": {
        "colab": {
          "base_uri": "https://localhost:8080/"
        },
        "id": "wzoCzL4rcrt1",
        "outputId": "56697ff2-607a-4f47-d05a-28accbad529f"
      },
      "execution_count": 5,
      "outputs": [
        {
          "output_type": "stream",
          "name": "stdout",
          "text": [
            "The number is 93.\n"
          ]
        }
      ]
    },
    {
      "cell_type": "markdown",
      "source": [
        "###Programming Exercises 1 Kilometer Converter"
      ],
      "metadata": {
        "id": "OOwwx0F1e6Az"
      }
    },
    {
      "cell_type": "code",
      "source": [
        "#Ask user for distance in kilometers and convert to miles\n",
        "\n",
        "#Define the function\n",
        "def converter(kilometer):\n",
        "  mile = kilometer * 0.6214\n",
        "  return mile\n",
        "\n",
        "#Ask User to input distance in kilometers\n",
        "kilometer = int(input('Please enter distance in kilometers: '))\n",
        "\n",
        "#Call function\n",
        "converter(kilometer)\n",
        "\n",
        "#Print results\n",
        "print('The distance in miles is ' + str(converter(kilometer)))"
      ],
      "metadata": {
        "colab": {
          "base_uri": "https://localhost:8080/"
        },
        "id": "HlwL6LgOfPmi",
        "outputId": "81b26c9d-1a2e-40ed-dd0b-e1880e5ff60b"
      },
      "execution_count": 15,
      "outputs": [
        {
          "output_type": "stream",
          "name": "stdout",
          "text": [
            "Please enter distance in kilometers: 55\n",
            "The distance in miles is 34.177\n"
          ]
        }
      ]
    },
    {
      "cell_type": "markdown",
      "source": [
        "###Programming Exercise 17 Prime Numbers"
      ],
      "metadata": {
        "id": "YpxdZEN_ma6O"
      }
    },
    {
      "cell_type": "code",
      "source": [
        "#Write functions to determine prime numbers using a boolean funciton called is_prime\n",
        "\n",
        "#Boolean Function\n",
        "def is_prime(num):\n",
        "  even_divide = 0\n",
        "  if num<= 0:\n",
        "    return False\n",
        "  else:\n",
        "    #excute in for loop to iterate through possible divisors\n",
        "    for x in range(1, num+1):\n",
        "      if num % x == 0:\n",
        "        even_divide +=1\n",
        "        if even_divide >2:\n",
        "          return False\n",
        "    return True\n",
        "\n",
        "#Define the main function\n",
        "def main():\n",
        "  #Ask user for number\n",
        "  number = int(input('Enter a number: '))\n",
        "  result = is_prime(number) #execute boolean function\n",
        " #Print results\n",
        "  if result == True:\n",
        "    print('You entered a Prime Number! Alphanumeric!')\n",
        "  else:\n",
        "    print('You did not enter a Prime Number. Everything must now go 8-bit.')\n",
        "\n",
        "main()"
      ],
      "metadata": {
        "colab": {
          "base_uri": "https://localhost:8080/"
        },
        "id": "JYbQbhZamuER",
        "outputId": "6088d37c-1252-41a7-bb23-4be1f8bb544e"
      },
      "execution_count": 19,
      "outputs": [
        {
          "output_type": "stream",
          "name": "stdout",
          "text": [
            "Enter a number: 52\n",
            "You did not enter a Prime Number. Everything must now go 8-bit.\n"
          ]
        }
      ]
    },
    {
      "cell_type": "markdown",
      "source": [
        "###Problem 18 Prime Number List"
      ],
      "metadata": {
        "id": "g0YEtCmRp3IA"
      }
    },
    {
      "cell_type": "code",
      "source": [
        "#Bring over is_prime function and iterate through numbers 1 to 100 for prime numbers\n",
        "\n",
        "#Boolean Function\n",
        "def is_prime(num):\n",
        "  even_divide = 0\n",
        "  if num<= 0:\n",
        "    return False\n",
        "  else:\n",
        "    #excute in for loop to iterate through possible divisors\n",
        "    for x in range(1, num+1):\n",
        "      if num % x == 0:\n",
        "        even_divide +=1\n",
        "        if even_divide >2:\n",
        "          return False\n",
        "    return True\n",
        "\n",
        "def main():\n",
        "  for numRange in range(1, 101): #provide range of 1 to 100 to iterate through\n",
        "    #Run numbers though is_prime function\n",
        "    if is_prime(numRange):\n",
        "      #print out results\n",
        "      print(numRange, end=' ')\n",
        "\n",
        "main()"
      ],
      "metadata": {
        "colab": {
          "base_uri": "https://localhost:8080/"
        },
        "id": "xQRNg8Ybp614",
        "outputId": "a42b486f-b0e9-4aa8-eabb-345d95c71369"
      },
      "execution_count": 20,
      "outputs": [
        {
          "output_type": "stream",
          "name": "stdout",
          "text": [
            "1 2 3 5 7 11 13 17 19 23 29 31 37 41 43 47 53 59 61 67 71 73 79 83 89 97 "
          ]
        }
      ]
    },
    {
      "cell_type": "markdown",
      "source": [
        "###Problem 21 Rock, Paper, Scissors Game"
      ],
      "metadata": {
        "id": "qfHxuEXKsLV4"
      }
    },
    {
      "cell_type": "code",
      "source": [
        "#Generate random numbers 1-3 and assign rock, paper, and scissors to them. Ask user to input a number and then display results of the game.\n",
        "\n",
        "import random\n",
        "\n",
        "def main():\n",
        "  tied = True\n",
        "  while tied:\n",
        "    number = random.randint(1,3)\n",
        "    computer = \"\"\n",
        "    if number == 1:\n",
        "      computer = \"rock\"\n",
        "    if number == 2:\n",
        "      computer = \"paper\"\n",
        "    if number == 3:\n",
        "      computer = \"scissors\"\n",
        "\n",
        "    player_input = input(\"Enter rock, paper, or scissors: \")\n",
        "    print(\"Computer played \", computer)\n",
        "\n",
        "    if computer == player:\n",
        "      print('Game ends in a tie!\\n')\n",
        "      number = random.randint(1,3)\n",
        "    if computer == \"rock\" and player == \"paper\":\n",
        "      print('You win! Paper beats rock! We have no idea why it just does!', '\\n')\n",
        "      tie = False\n",
        "    if computer == \"paper\" and player ==\"rock\":\n",
        "      print('You lose because obviously paper beats rock!')\n",
        "      tie = False\n",
        "    if computer == \"paper\" and player == \"scissors\":\n",
        "      print('Player wins! Scissors beats paper')\n",
        "      tie = False\n",
        "    if computer == \"scissors\" and player == \"paper\":\n",
        "      print('Player loses because scissors slice up the paper!')\n",
        "      tie = False\n",
        "    if computer == \"scissors\" and player == \"rock\":\n",
        "      print('Player wins! Rock destroyes scissors.')\n",
        "      tie = False\n",
        "    if computer == \"rock\" and player == \"scissors\":\n",
        "      print('Player loses due to having only scissors.')\n",
        "      tie = False\n",
        "main()"
      ],
      "metadata": {
        "colab": {
          "base_uri": "https://localhost:8080/",
          "height": 108
        },
        "id": "4XMUAdGFsTOz",
        "outputId": "46a7452b-670b-4e5b-9a96-b75fb773cde5"
      },
      "execution_count": 25,
      "outputs": [
        {
          "output_type": "error",
          "ename": "SyntaxError",
          "evalue": "invalid syntax. Maybe you meant '==' or ':=' instead of '='? (<ipython-input-25-0be8d0a5413b>, line 29)",
          "traceback": [
            "\u001b[0;36m  File \u001b[0;32m\"<ipython-input-25-0be8d0a5413b>\"\u001b[0;36m, line \u001b[0;32m29\u001b[0m\n\u001b[0;31m    if computer = \"paper\" and player == \"scissors\":\u001b[0m\n\u001b[0m       ^\u001b[0m\n\u001b[0;31mSyntaxError\u001b[0m\u001b[0;31m:\u001b[0m invalid syntax. Maybe you meant '==' or ':=' instead of '='?\n"
          ]
        }
      ]
    },
    {
      "cell_type": "code",
      "source": [],
      "metadata": {
        "id": "qxGXgvunxHsn"
      },
      "execution_count": null,
      "outputs": []
    }
  ]
}