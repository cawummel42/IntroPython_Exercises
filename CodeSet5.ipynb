{
  "nbformat": 4,
  "nbformat_minor": 0,
  "metadata": {
    "colab": {
      "provenance": [],
      "authorship_tag": "ABX9TyMEB7OXWyzXcmytIAEG0vhk",
      "include_colab_link": true
    },
    "kernelspec": {
      "name": "python3",
      "display_name": "Python 3"
    },
    "language_info": {
      "name": "python"
    }
  },
  "cells": [
    {
      "cell_type": "markdown",
      "metadata": {
        "id": "view-in-github",
        "colab_type": "text"
      },
      "source": [
        "<a href=\"https://colab.research.google.com/github/cawummel42/IntroPython_Exercises/blob/main/CodeSet5.ipynb\" target=\"_parent\"><img src=\"https://colab.research.google.com/assets/colab-badge.svg\" alt=\"Open In Colab\"/></a>"
      ]
    },
    {
      "cell_type": "markdown",
      "source": [
        "#Coding Set 5"
      ],
      "metadata": {
        "id": "44agzs5YX32B"
      }
    },
    {
      "cell_type": "markdown",
      "source": [
        "##Algorithm Workbench"
      ],
      "metadata": {
        "id": "EysAPx_dX9wl"
      }
    },
    {
      "cell_type": "markdown",
      "source": [
        "###Problem 1"
      ],
      "metadata": {
        "id": "YJypOao-aLAC"
      }
    },
    {
      "cell_type": "code",
      "execution_count": 3,
      "metadata": {
        "colab": {
          "base_uri": "https://localhost:8080/"
        },
        "id": "Q68-cqMeX0Wl",
        "outputId": "d2211a83-1c2d-4a2f-c0a5-b88fffb77389"
      },
      "outputs": [
        {
          "output_type": "stream",
          "name": "stdout",
          "text": [
            "20\n",
            "30\n",
            "19880\n"
          ]
        }
      ],
      "source": [
        "#Write a funtion name time_ten and accept an argument and display product after multiplying by 10\n",
        "\n",
        "#Define funtion\n",
        "def times_ten(number):\n",
        "  value = number * 10\n",
        "  print(value)\n",
        "\n",
        "times_ten(2)\n",
        "times_ten(3)\n",
        "times_ten(1988)"
      ]
    }
  ]
}