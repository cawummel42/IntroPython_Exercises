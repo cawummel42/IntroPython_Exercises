{
  "nbformat": 4,
  "nbformat_minor": 0,
  "metadata": {
    "colab": {
      "provenance": [],
      "authorship_tag": "ABX9TyOLekq/b3N2yyYQGHkf1NnE",
      "include_colab_link": true
    },
    "kernelspec": {
      "name": "python3",
      "display_name": "Python 3"
    },
    "language_info": {
      "name": "python"
    }
  },
  "cells": [
    {
      "cell_type": "markdown",
      "metadata": {
        "id": "view-in-github",
        "colab_type": "text"
      },
      "source": [
        "<a href=\"https://colab.research.google.com/github/cawummel42/IntroPython_Exercises/blob/main/CodeSet5.ipynb\" target=\"_parent\"><img src=\"https://colab.research.google.com/assets/colab-badge.svg\" alt=\"Open In Colab\"/></a>"
      ]
    },
    {
      "cell_type": "markdown",
      "source": [
        "#Coding Set 5"
      ],
      "metadata": {
        "id": "44agzs5YX32B"
      }
    },
    {
      "cell_type": "markdown",
      "source": [
        "##Algorithm Workbench"
      ],
      "metadata": {
        "id": "EysAPx_dX9wl"
      }
    },
    {
      "cell_type": "markdown",
      "source": [
        "###Problem 1"
      ],
      "metadata": {
        "id": "YJypOao-aLAC"
      }
    },
    {
      "cell_type": "code",
      "execution_count": 3,
      "metadata": {
        "colab": {
          "base_uri": "https://localhost:8080/"
        },
        "id": "Q68-cqMeX0Wl",
        "outputId": "d2211a83-1c2d-4a2f-c0a5-b88fffb77389"
      },
      "outputs": [
        {
          "output_type": "stream",
          "name": "stdout",
          "text": [
            "20\n",
            "30\n",
            "19880\n"
          ]
        }
      ],
      "source": [
        "#Write a funtion name time_ten and accept an argument and display product after multiplying by 10\n",
        "\n",
        "#Define funtion\n",
        "def times_ten(number):\n",
        "  value = number * 10\n",
        "  print(value)\n",
        "\n",
        "times_ten(2)\n",
        "times_ten(3)\n",
        "times_ten(1988)"
      ]
    },
    {
      "cell_type": "markdown",
      "source": [
        "###Problem 6"
      ],
      "metadata": {
        "id": "Y0-GK8J6ckk8"
      }
    },
    {
      "cell_type": "code",
      "source": [
        "#Display a random number between 1 and 100 in a funtion\n",
        "\n",
        "#Import random module\n",
        "import random\n",
        "\n",
        "#define function\n",
        "def main():\n",
        "  #Get a random number and assign it to rand\n",
        "  rand = random.randint(1, 100)\n",
        "\n",
        "  #Display results\n",
        "  print(f'The number is {rand}.')\n",
        "\n",
        "#Call funtion\n",
        "main()"
      ],
      "metadata": {
        "colab": {
          "base_uri": "https://localhost:8080/"
        },
        "id": "wzoCzL4rcrt1",
        "outputId": "56697ff2-607a-4f47-d05a-28accbad529f"
      },
      "execution_count": 5,
      "outputs": [
        {
          "output_type": "stream",
          "name": "stdout",
          "text": [
            "The number is 93.\n"
          ]
        }
      ]
    },
    {
      "cell_type": "markdown",
      "source": [
        "###Programming Exercises 1 Kilometer Converter"
      ],
      "metadata": {
        "id": "OOwwx0F1e6Az"
      }
    },
    {
      "cell_type": "code",
      "source": [
        "#Ask user for distance in kilometers and convert to miles\n",
        "\n",
        "#Define the function\n",
        "def converter(miles):\n",
        "  miles = kilometer * 0.6214\n",
        "  return miles\n",
        "\n",
        "kilometer = int(input('Please enter distance in kilometers: '))\n",
        "\n",
        "print('The distance in miles is ' + str(converter(miles)))"
      ],
      "metadata": {
        "colab": {
          "base_uri": "https://localhost:8080/",
          "height": 198
        },
        "id": "HlwL6LgOfPmi",
        "outputId": "0fd61142-9b1b-4438-83de-dfe67b9f8d29"
      },
      "execution_count": 10,
      "outputs": [
        {
          "name": "stdout",
          "output_type": "stream",
          "text": [
            "Please enter distance in kilometers: 4\n"
          ]
        },
        {
          "output_type": "error",
          "ename": "NameError",
          "evalue": "name 'miles' is not defined",
          "traceback": [
            "\u001b[0;31m---------------------------------------------------------------------------\u001b[0m",
            "\u001b[0;31mNameError\u001b[0m                                 Traceback (most recent call last)",
            "\u001b[0;32m<ipython-input-10-38d549649334>\u001b[0m in \u001b[0;36m<cell line: 10>\u001b[0;34m()\u001b[0m\n\u001b[1;32m      8\u001b[0m \u001b[0mkilometer\u001b[0m \u001b[0;34m=\u001b[0m \u001b[0mint\u001b[0m\u001b[0;34m(\u001b[0m\u001b[0minput\u001b[0m\u001b[0;34m(\u001b[0m\u001b[0;34m'Please enter distance in kilometers: '\u001b[0m\u001b[0;34m)\u001b[0m\u001b[0;34m)\u001b[0m\u001b[0;34m\u001b[0m\u001b[0;34m\u001b[0m\u001b[0m\n\u001b[1;32m      9\u001b[0m \u001b[0;34m\u001b[0m\u001b[0m\n\u001b[0;32m---> 10\u001b[0;31m \u001b[0mprint\u001b[0m\u001b[0;34m(\u001b[0m\u001b[0;34m'The distance in miles is '\u001b[0m \u001b[0;34m+\u001b[0m \u001b[0mstr\u001b[0m\u001b[0;34m(\u001b[0m\u001b[0mconverter\u001b[0m\u001b[0;34m(\u001b[0m\u001b[0mmiles\u001b[0m\u001b[0;34m)\u001b[0m\u001b[0;34m)\u001b[0m\u001b[0;34m)\u001b[0m\u001b[0;34m\u001b[0m\u001b[0;34m\u001b[0m\u001b[0m\n\u001b[0m",
            "\u001b[0;31mNameError\u001b[0m: name 'miles' is not defined"
          ]
        }
      ]
    }
  ]
}